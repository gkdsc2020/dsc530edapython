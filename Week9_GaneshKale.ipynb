{
 "cells": [
  {
   "cell_type": "markdown",
   "metadata": {},
   "source": [
    "# Week9 Ganesh Kale\n",
    "\n",
    "http://thinkstats2.com\n",
    "\n",
    "Copyright 2016 Allen B. Downey\n",
    "\n",
    "MIT License: https://opensource.org/licenses/MIT\n"
   ]
  },
  {
   "cell_type": "code",
   "execution_count": 1,
   "metadata": {},
   "outputs": [],
   "source": [
    "from __future__ import print_function, division\n",
    "\n",
    "%matplotlib inline\n",
    "\n",
    "import numpy as np\n",
    "import pandas as pd\n",
    "\n",
    "import random\n",
    "\n",
    "import thinkstats2\n",
    "import thinkplot"
   ]
  },
  {
   "cell_type": "markdown",
   "metadata": {},
   "source": [
    "## Exercises 11.1"
   ]
  },
  {
   "cell_type": "markdown",
   "metadata": {},
   "source": [
    "**Exercise:** Suppose one of your co-workers is expecting a baby and you are participating in an office pool to predict the date of birth. Assuming that bets are placed during the 30th week of pregnancy, what variables could you use to make the best prediction? You should limit yourself to variables that are known before the birth, and likely to be available to the people in the pool."
   ]
  },
  {
   "cell_type": "code",
   "execution_count": 101,
   "metadata": {},
   "outputs": [],
   "source": [
    "import first\n",
    "live, firsts, others = first.MakeFrames()\n",
    "live = live[live.prglngth>30]"
   ]
  },
  {
   "cell_type": "markdown",
   "metadata": {},
   "source": [
    "The following are the only variables I found that have a statistically significant effect on pregnancy length."
   ]
  },
  {
   "cell_type": "code",
   "execution_count": 102,
   "metadata": {},
   "outputs": [],
   "source": [
    "# added ager columns as independent variable to test the age is statistically significant or not\n",
    "# but based on the p-value it seems not significant"
   ]
  },
  {
   "cell_type": "code",
   "execution_count": 103,
   "metadata": {},
   "outputs": [
    {
     "data": {
      "text/html": [
       "<table class=\"simpletable\">\n",
       "<caption>OLS Regression Results</caption>\n",
       "<tr>\n",
       "  <th>Dep. Variable:</th>        <td>prglngth</td>     <th>  R-squared:         </th> <td>   0.011</td> \n",
       "</tr>\n",
       "<tr>\n",
       "  <th>Model:</th>                   <td>OLS</td>       <th>  Adj. R-squared:    </th> <td>   0.011</td> \n",
       "</tr>\n",
       "<tr>\n",
       "  <th>Method:</th>             <td>Least Squares</td>  <th>  F-statistic:       </th> <td>   25.80</td> \n",
       "</tr>\n",
       "<tr>\n",
       "  <th>Date:</th>             <td>Fri, 14 May 2021</td> <th>  Prob (F-statistic):</th> <td>2.71e-21</td> \n",
       "</tr>\n",
       "<tr>\n",
       "  <th>Time:</th>                 <td>21:55:24</td>     <th>  Log-Likelihood:    </th> <td> -18247.</td> \n",
       "</tr>\n",
       "<tr>\n",
       "  <th>No. Observations:</th>      <td>  8884</td>      <th>  AIC:               </th> <td>3.650e+04</td>\n",
       "</tr>\n",
       "<tr>\n",
       "  <th>Df Residuals:</th>          <td>  8879</td>      <th>  BIC:               </th> <td>3.654e+04</td>\n",
       "</tr>\n",
       "<tr>\n",
       "  <th>Df Model:</th>              <td>     4</td>      <th>                     </th>     <td> </td>    \n",
       "</tr>\n",
       "<tr>\n",
       "  <th>Covariance Type:</th>      <td>nonrobust</td>    <th>                     </th>     <td> </td>    \n",
       "</tr>\n",
       "</table>\n",
       "<table class=\"simpletable\">\n",
       "<tr>\n",
       "            <td></td>               <th>coef</th>     <th>std err</th>      <th>t</th>      <th>P>|t|</th>  <th>[0.025</th>    <th>0.975]</th>  \n",
       "</tr>\n",
       "<tr>\n",
       "  <th>Intercept</th>             <td>   38.6976</td> <td>    0.111</td> <td>  349.048</td> <td> 0.000</td> <td>   38.480</td> <td>   38.915</td>\n",
       "</tr>\n",
       "<tr>\n",
       "  <th>birthord == 1[T.True]</th> <td>    0.1044</td> <td>    0.040</td> <td>    2.583</td> <td> 0.010</td> <td>    0.025</td> <td>    0.184</td>\n",
       "</tr>\n",
       "<tr>\n",
       "  <th>race == 2[T.True]</th>     <td>    0.1371</td> <td>    0.042</td> <td>    3.257</td> <td> 0.001</td> <td>    0.055</td> <td>    0.220</td>\n",
       "</tr>\n",
       "<tr>\n",
       "  <th>nbrnaliv > 1[T.True]</th>  <td>   -1.4964</td> <td>    0.165</td> <td>   -9.095</td> <td> 0.000</td> <td>   -1.819</td> <td>   -1.174</td>\n",
       "</tr>\n",
       "<tr>\n",
       "  <th>ager</th>                  <td>    0.0019</td> <td>    0.003</td> <td>    0.616</td> <td> 0.538</td> <td>   -0.004</td> <td>    0.008</td>\n",
       "</tr>\n",
       "</table>\n",
       "<table class=\"simpletable\">\n",
       "<tr>\n",
       "  <th>Omnibus:</th>       <td>1585.512</td> <th>  Durbin-Watson:     </th> <td>   1.620</td>\n",
       "</tr>\n",
       "<tr>\n",
       "  <th>Prob(Omnibus):</th>  <td> 0.000</td>  <th>  Jarque-Bera (JB):  </th> <td>6158.217</td>\n",
       "</tr>\n",
       "<tr>\n",
       "  <th>Skew:</th>           <td>-0.850</td>  <th>  Prob(JB):          </th> <td>    0.00</td>\n",
       "</tr>\n",
       "<tr>\n",
       "  <th>Kurtosis:</th>       <td> 6.707</td>  <th>  Cond. No.          </th> <td>    282.</td>\n",
       "</tr>\n",
       "</table><br/><br/>Notes:<br/>[1] Standard Errors assume that the covariance matrix of the errors is correctly specified."
      ],
      "text/plain": [
       "<class 'statsmodels.iolib.summary.Summary'>\n",
       "\"\"\"\n",
       "                            OLS Regression Results                            \n",
       "==============================================================================\n",
       "Dep. Variable:               prglngth   R-squared:                       0.011\n",
       "Model:                            OLS   Adj. R-squared:                  0.011\n",
       "Method:                 Least Squares   F-statistic:                     25.80\n",
       "Date:                Fri, 14 May 2021   Prob (F-statistic):           2.71e-21\n",
       "Time:                        21:55:24   Log-Likelihood:                -18247.\n",
       "No. Observations:                8884   AIC:                         3.650e+04\n",
       "Df Residuals:                    8879   BIC:                         3.654e+04\n",
       "Df Model:                           4                                         \n",
       "Covariance Type:            nonrobust                                         \n",
       "=========================================================================================\n",
       "                            coef    std err          t      P>|t|      [0.025      0.975]\n",
       "-----------------------------------------------------------------------------------------\n",
       "Intercept                38.6976      0.111    349.048      0.000      38.480      38.915\n",
       "birthord == 1[T.True]     0.1044      0.040      2.583      0.010       0.025       0.184\n",
       "race == 2[T.True]         0.1371      0.042      3.257      0.001       0.055       0.220\n",
       "nbrnaliv > 1[T.True]     -1.4964      0.165     -9.095      0.000      -1.819      -1.174\n",
       "ager                      0.0019      0.003      0.616      0.538      -0.004       0.008\n",
       "==============================================================================\n",
       "Omnibus:                     1585.512   Durbin-Watson:                   1.620\n",
       "Prob(Omnibus):                  0.000   Jarque-Bera (JB):             6158.217\n",
       "Skew:                          -0.850   Prob(JB):                         0.00\n",
       "Kurtosis:                       6.707   Cond. No.                         282.\n",
       "==============================================================================\n",
       "\n",
       "Notes:\n",
       "[1] Standard Errors assume that the covariance matrix of the errors is correctly specified.\n",
       "\"\"\""
      ]
     },
     "execution_count": 103,
     "metadata": {},
     "output_type": "execute_result"
    }
   ],
   "source": [
    "import statsmodels.formula.api as smf\n",
    "model = smf.ols('prglngth ~ birthord==1 + race==2 + nbrnaliv>1 + ager', data=live)\n",
    "results = model.fit()\n",
    "results.summary()"
   ]
  },
  {
   "cell_type": "code",
   "execution_count": 104,
   "metadata": {},
   "outputs": [
    {
     "data": {
      "text/html": [
       "<table class=\"simpletable\">\n",
       "<caption>OLS Regression Results</caption>\n",
       "<tr>\n",
       "  <th>Dep. Variable:</th>        <td>prglngth</td>     <th>  R-squared:         </th> <td>   0.011</td> \n",
       "</tr>\n",
       "<tr>\n",
       "  <th>Model:</th>                   <td>OLS</td>       <th>  Adj. R-squared:    </th> <td>   0.011</td> \n",
       "</tr>\n",
       "<tr>\n",
       "  <th>Method:</th>             <td>Least Squares</td>  <th>  F-statistic:       </th> <td>   34.28</td> \n",
       "</tr>\n",
       "<tr>\n",
       "  <th>Date:</th>             <td>Fri, 14 May 2021</td> <th>  Prob (F-statistic):</th> <td>5.09e-22</td> \n",
       "</tr>\n",
       "<tr>\n",
       "  <th>Time:</th>                 <td>21:55:25</td>     <th>  Log-Likelihood:    </th> <td> -18247.</td> \n",
       "</tr>\n",
       "<tr>\n",
       "  <th>No. Observations:</th>      <td>  8884</td>      <th>  AIC:               </th> <td>3.650e+04</td>\n",
       "</tr>\n",
       "<tr>\n",
       "  <th>Df Residuals:</th>          <td>  8880</td>      <th>  BIC:               </th> <td>3.653e+04</td>\n",
       "</tr>\n",
       "<tr>\n",
       "  <th>Df Model:</th>              <td>     3</td>      <th>                     </th>     <td> </td>    \n",
       "</tr>\n",
       "<tr>\n",
       "  <th>Covariance Type:</th>      <td>nonrobust</td>    <th>                     </th>     <td> </td>    \n",
       "</tr>\n",
       "</table>\n",
       "<table class=\"simpletable\">\n",
       "<tr>\n",
       "            <td></td>               <th>coef</th>     <th>std err</th>      <th>t</th>      <th>P>|t|</th>  <th>[0.025</th>    <th>0.975]</th>  \n",
       "</tr>\n",
       "<tr>\n",
       "  <th>Intercept</th>             <td>   38.7617</td> <td>    0.039</td> <td> 1006.410</td> <td> 0.000</td> <td>   38.686</td> <td>   38.837</td>\n",
       "</tr>\n",
       "<tr>\n",
       "  <th>birthord == 1[T.True]</th> <td>    0.1015</td> <td>    0.040</td> <td>    2.528</td> <td> 0.011</td> <td>    0.023</td> <td>    0.180</td>\n",
       "</tr>\n",
       "<tr>\n",
       "  <th>race == 2[T.True]</th>     <td>    0.1390</td> <td>    0.042</td> <td>    3.311</td> <td> 0.001</td> <td>    0.057</td> <td>    0.221</td>\n",
       "</tr>\n",
       "<tr>\n",
       "  <th>nbrnaliv > 1[T.True]</th>  <td>   -1.4944</td> <td>    0.164</td> <td>   -9.086</td> <td> 0.000</td> <td>   -1.817</td> <td>   -1.172</td>\n",
       "</tr>\n",
       "</table>\n",
       "<table class=\"simpletable\">\n",
       "<tr>\n",
       "  <th>Omnibus:</th>       <td>1587.470</td> <th>  Durbin-Watson:     </th> <td>   1.619</td>\n",
       "</tr>\n",
       "<tr>\n",
       "  <th>Prob(Omnibus):</th>  <td> 0.000</td>  <th>  Jarque-Bera (JB):  </th> <td>6160.751</td>\n",
       "</tr>\n",
       "<tr>\n",
       "  <th>Skew:</th>           <td>-0.852</td>  <th>  Prob(JB):          </th> <td>    0.00</td>\n",
       "</tr>\n",
       "<tr>\n",
       "  <th>Kurtosis:</th>       <td> 6.707</td>  <th>  Cond. No.          </th> <td>    10.9</td>\n",
       "</tr>\n",
       "</table><br/><br/>Notes:<br/>[1] Standard Errors assume that the covariance matrix of the errors is correctly specified."
      ],
      "text/plain": [
       "<class 'statsmodels.iolib.summary.Summary'>\n",
       "\"\"\"\n",
       "                            OLS Regression Results                            \n",
       "==============================================================================\n",
       "Dep. Variable:               prglngth   R-squared:                       0.011\n",
       "Model:                            OLS   Adj. R-squared:                  0.011\n",
       "Method:                 Least Squares   F-statistic:                     34.28\n",
       "Date:                Fri, 14 May 2021   Prob (F-statistic):           5.09e-22\n",
       "Time:                        21:55:25   Log-Likelihood:                -18247.\n",
       "No. Observations:                8884   AIC:                         3.650e+04\n",
       "Df Residuals:                    8880   BIC:                         3.653e+04\n",
       "Df Model:                           3                                         \n",
       "Covariance Type:            nonrobust                                         \n",
       "=========================================================================================\n",
       "                            coef    std err          t      P>|t|      [0.025      0.975]\n",
       "-----------------------------------------------------------------------------------------\n",
       "Intercept                38.7617      0.039   1006.410      0.000      38.686      38.837\n",
       "birthord == 1[T.True]     0.1015      0.040      2.528      0.011       0.023       0.180\n",
       "race == 2[T.True]         0.1390      0.042      3.311      0.001       0.057       0.221\n",
       "nbrnaliv > 1[T.True]     -1.4944      0.164     -9.086      0.000      -1.817      -1.172\n",
       "==============================================================================\n",
       "Omnibus:                     1587.470   Durbin-Watson:                   1.619\n",
       "Prob(Omnibus):                  0.000   Jarque-Bera (JB):             6160.751\n",
       "Skew:                          -0.852   Prob(JB):                         0.00\n",
       "Kurtosis:                       6.707   Cond. No.                         10.9\n",
       "==============================================================================\n",
       "\n",
       "Notes:\n",
       "[1] Standard Errors assume that the covariance matrix of the errors is correctly specified.\n",
       "\"\"\""
      ]
     },
     "execution_count": 104,
     "metadata": {},
     "output_type": "execute_result"
    }
   ],
   "source": [
    "import statsmodels.formula.api as smf\n",
    "model = smf.ols('prglngth ~ birthord==1 + race==2 + nbrnaliv>1', data=live)\n",
    "results_mlr = model.fit()\n",
    "results_mlr.summary()"
   ]
  },
  {
   "cell_type": "markdown",
   "metadata": {},
   "source": [
    "#### Based on the above result generated by statstmodel multiple regression, the variables that would make the best predictions about data of birth are - \n",
    "1. birth order = 1 - the responsents first child\n",
    "2. race - race of the responsents\n",
    "3. number of live births - delivered multiple babies - twins etc\n",
    "4. age - age of the respondent (ager) - **but this is not statistically significant"
   ]
  },
  {
   "cell_type": "markdown",
   "metadata": {},
   "source": [
    "## Exercises 11.3"
   ]
  },
  {
   "cell_type": "markdown",
   "metadata": {},
   "source": [
    "**Exercise:** If the quantity you want to predict is a count, you can use Poisson regression, which is implemented in StatsModels with a function called `poisson`. It works the same way as `ols` and `logit`. As an exercise, let’s use it to predict how many children a woman has born; in the NSFG dataset, this variable is called `numbabes`.\n",
    "\n",
    "Suppose you meet a woman who is 35 years old, black, and a college graduate whose annual household income exceeds $75,000. How many children would you predict she has born?"
   ]
  },
  {
   "cell_type": "code",
   "execution_count": 105,
   "metadata": {},
   "outputs": [],
   "source": [
    "live, firsts, others = first.MakeFrames()\n",
    "resp = nsfg.ReadFemResp()\n",
    "resp.index = resp.caseid\n",
    "join = live.join(resp, on='caseid', rsuffix='_r')"
   ]
  },
  {
   "cell_type": "code",
   "execution_count": 106,
   "metadata": {},
   "outputs": [
    {
     "name": "stdout",
     "output_type": "stream",
     "text": [
      "Optimization terminated successfully.\n",
      "         Current function value: 1.721278\n",
      "         Iterations 4\n"
     ]
    },
    {
     "data": {
      "text/html": [
       "<table class=\"simpletable\">\n",
       "<caption>Poisson Regression Results</caption>\n",
       "<tr>\n",
       "  <th>Dep. Variable:</th>       <td>numbabes</td>     <th>  No. Observations:  </th>  <td>  9148</td>  \n",
       "</tr>\n",
       "<tr>\n",
       "  <th>Model:</th>                <td>Poisson</td>     <th>  Df Residuals:      </th>  <td>  9143</td>  \n",
       "</tr>\n",
       "<tr>\n",
       "  <th>Method:</th>                 <td>MLE</td>       <th>  Df Model:          </th>  <td>     4</td>  \n",
       "</tr>\n",
       "<tr>\n",
       "  <th>Date:</th>            <td>Fri, 14 May 2021</td> <th>  Pseudo R-squ.:     </th>  <td>0.01159</td> \n",
       "</tr>\n",
       "<tr>\n",
       "  <th>Time:</th>                <td>21:55:50</td>     <th>  Log-Likelihood:    </th> <td> -15746.</td> \n",
       "</tr>\n",
       "<tr>\n",
       "  <th>converged:</th>             <td>True</td>       <th>  LL-Null:           </th> <td> -15931.</td> \n",
       "</tr>\n",
       "<tr>\n",
       "  <th>Covariance Type:</th>     <td>nonrobust</td>    <th>  LLR p-value:       </th> <td>1.219e-78</td>\n",
       "</tr>\n",
       "</table>\n",
       "<table class=\"simpletable\">\n",
       "<tr>\n",
       "            <td></td>              <th>coef</th>     <th>std err</th>      <th>z</th>      <th>P>|z|</th>  <th>[0.025</th>    <th>0.975]</th>  \n",
       "</tr>\n",
       "<tr>\n",
       "  <th>Intercept</th>            <td>    1.1480</td> <td>    0.016</td> <td>   71.961</td> <td> 0.000</td> <td>    1.117</td> <td>    1.179</td>\n",
       "</tr>\n",
       "<tr>\n",
       "  <th>ager == 35[T.True]</th>   <td>   -0.0704</td> <td>    0.032</td> <td>   -2.226</td> <td> 0.026</td> <td>   -0.132</td> <td>   -0.008</td>\n",
       "</tr>\n",
       "<tr>\n",
       "  <th>race == 1[T.True]</th>    <td>    0.1337</td> <td>    0.014</td> <td>    9.479</td> <td> 0.000</td> <td>    0.106</td> <td>    0.161</td>\n",
       "</tr>\n",
       "<tr>\n",
       "  <th>educat == 16[T.True]</th> <td>   -0.0589</td> <td>    0.024</td> <td>   -2.492</td> <td> 0.013</td> <td>   -0.105</td> <td>   -0.013</td>\n",
       "</tr>\n",
       "<tr>\n",
       "  <th>totincr</th>              <td>   -0.0219</td> <td>    0.002</td> <td>  -12.833</td> <td> 0.000</td> <td>   -0.025</td> <td>   -0.019</td>\n",
       "</tr>\n",
       "</table>"
      ],
      "text/plain": [
       "<class 'statsmodels.iolib.summary.Summary'>\n",
       "\"\"\"\n",
       "                          Poisson Regression Results                          \n",
       "==============================================================================\n",
       "Dep. Variable:               numbabes   No. Observations:                 9148\n",
       "Model:                        Poisson   Df Residuals:                     9143\n",
       "Method:                           MLE   Df Model:                            4\n",
       "Date:                Fri, 14 May 2021   Pseudo R-squ.:                 0.01159\n",
       "Time:                        21:55:50   Log-Likelihood:                -15746.\n",
       "converged:                       True   LL-Null:                       -15931.\n",
       "Covariance Type:            nonrobust   LLR p-value:                 1.219e-78\n",
       "========================================================================================\n",
       "                           coef    std err          z      P>|z|      [0.025      0.975]\n",
       "----------------------------------------------------------------------------------------\n",
       "Intercept                1.1480      0.016     71.961      0.000       1.117       1.179\n",
       "ager == 35[T.True]      -0.0704      0.032     -2.226      0.026      -0.132      -0.008\n",
       "race == 1[T.True]        0.1337      0.014      9.479      0.000       0.106       0.161\n",
       "educat == 16[T.True]    -0.0589      0.024     -2.492      0.013      -0.105      -0.013\n",
       "totincr                 -0.0219      0.002    -12.833      0.000      -0.025      -0.019\n",
       "========================================================================================\n",
       "\"\"\""
      ]
     },
     "execution_count": 106,
     "metadata": {},
     "output_type": "execute_result"
    }
   ],
   "source": [
    "\n",
    "model = smf.poisson('numbabes ~ ager==35 + race==1 + educat==16 + totincr', data=join)\n",
    "results_p = model.fit()\n",
    "results_p.summary()"
   ]
  },
  {
   "cell_type": "markdown",
   "metadata": {},
   "source": [
    "Now we can predict the number of children for a woman who is 35 years old, black, and a college\n",
    "graduate whose annual household income exceeds $75,000"
   ]
  },
  {
   "cell_type": "code",
   "execution_count": 107,
   "metadata": {},
   "outputs": [
    {
     "data": {
      "text/plain": [
       "'The woman would have 2 childrens'"
      ]
     },
     "execution_count": 107,
     "metadata": {},
     "output_type": "execute_result"
    }
   ],
   "source": [
    "# predict the how many children she has born - \n",
    "\n",
    "columns = ['ager', 'race', 'totincr', 'educat']\n",
    "df = pd.DataFrame([[35, 1, 14, 16]], columns=columns)\n",
    "f\"The woman would have {round(results_p.predict(df)[0])} childrens\""
   ]
  },
  {
   "cell_type": "markdown",
   "metadata": {},
   "source": [
    "## Exercises 11.3"
   ]
  },
  {
   "cell_type": "markdown",
   "metadata": {},
   "source": [
    "**Exercise:** If the quantity you want to predict is categorical, you can use multinomial logistic regression, which is implemented in StatsModels with a function called `mnlogit`. As an exercise, let’s use it to guess whether a woman is married, cohabitating, widowed, divorced, separated, or never married; in the NSFG dataset, marital status is encoded in a variable called `rmarital`.\n",
    "\n",
    "Suppose you meet a woman who is 25 years old, white, and a high school graduate whose annual household income is about $45,000. What is the probability that she is married, cohabitating, etc?"
   ]
  },
  {
   "cell_type": "code",
   "execution_count": 112,
   "metadata": {},
   "outputs": [
    {
     "name": "stdout",
     "output_type": "stream",
     "text": [
      "Optimization terminated successfully.\n",
      "         Current function value: 1.095371\n",
      "         Iterations 8\n"
     ]
    },
    {
     "data": {
      "text/html": [
       "<table class=\"simpletable\">\n",
       "<caption>MNLogit Regression Results</caption>\n",
       "<tr>\n",
       "  <th>Dep. Variable:</th>       <td>rmarital</td>     <th>  No. Observations:  </th>  <td>  9148</td> \n",
       "</tr>\n",
       "<tr>\n",
       "  <th>Model:</th>                <td>MNLogit</td>     <th>  Df Residuals:      </th>  <td>  9118</td> \n",
       "</tr>\n",
       "<tr>\n",
       "  <th>Method:</th>                 <td>MLE</td>       <th>  Df Model:          </th>  <td>    25</td> \n",
       "</tr>\n",
       "<tr>\n",
       "  <th>Date:</th>            <td>Fri, 14 May 2021</td> <th>  Pseudo R-squ.:     </th>  <td>0.1636</td> \n",
       "</tr>\n",
       "<tr>\n",
       "  <th>Time:</th>                <td>21:58:30</td>     <th>  Log-Likelihood:    </th> <td> -10020.</td>\n",
       "</tr>\n",
       "<tr>\n",
       "  <th>converged:</th>             <td>True</td>       <th>  LL-Null:           </th> <td> -11981.</td>\n",
       "</tr>\n",
       "<tr>\n",
       "  <th>Covariance Type:</th>     <td>nonrobust</td>    <th>  LLR p-value:       </th>  <td> 0.000</td> \n",
       "</tr>\n",
       "</table>\n",
       "<table class=\"simpletable\">\n",
       "<tr>\n",
       "   <th>rmarital=2</th>     <th>coef</th>     <th>std err</th>      <th>z</th>      <th>P>|z|</th>  <th>[0.025</th>    <th>0.975]</th>  \n",
       "</tr>\n",
       "<tr>\n",
       "  <th>Intercept</th>    <td>    4.4558</td> <td>    0.273</td> <td>   16.296</td> <td> 0.000</td> <td>    3.920</td> <td>    4.992</td>\n",
       "</tr>\n",
       "<tr>\n",
       "  <th>C(race)[T.2]</th> <td>   -0.9241</td> <td>    0.086</td> <td>  -10.692</td> <td> 0.000</td> <td>   -1.093</td> <td>   -0.755</td>\n",
       "</tr>\n",
       "<tr>\n",
       "  <th>C(race)[T.3]</th> <td>   -0.6456</td> <td>    0.133</td> <td>   -4.863</td> <td> 0.000</td> <td>   -0.906</td> <td>   -0.385</td>\n",
       "</tr>\n",
       "<tr>\n",
       "  <th>ager</th>         <td>   -0.0574</td> <td>    0.006</td> <td>  -10.031</td> <td> 0.000</td> <td>   -0.069</td> <td>   -0.046</td>\n",
       "</tr>\n",
       "<tr>\n",
       "  <th>totincr</th>      <td>   -0.1293</td> <td>    0.011</td> <td>  -11.433</td> <td> 0.000</td> <td>   -0.151</td> <td>   -0.107</td>\n",
       "</tr>\n",
       "<tr>\n",
       "  <th>educat</th>       <td>   -0.2033</td> <td>    0.018</td> <td>  -11.110</td> <td> 0.000</td> <td>   -0.239</td> <td>   -0.167</td>\n",
       "</tr>\n",
       "<tr>\n",
       "   <th>rmarital=3</th>     <th>coef</th>     <th>std err</th>      <th>z</th>      <th>P>|z|</th>  <th>[0.025</th>    <th>0.975]</th>  \n",
       "</tr>\n",
       "<tr>\n",
       "  <th>Intercept</th>    <td>   -4.3815</td> <td>    0.903</td> <td>   -4.850</td> <td> 0.000</td> <td>   -6.152</td> <td>   -2.611</td>\n",
       "</tr>\n",
       "<tr>\n",
       "  <th>C(race)[T.2]</th> <td>   -0.3953</td> <td>    0.235</td> <td>   -1.684</td> <td> 0.092</td> <td>   -0.855</td> <td>    0.065</td>\n",
       "</tr>\n",
       "<tr>\n",
       "  <th>C(race)[T.3]</th> <td>    0.0418</td> <td>    0.334</td> <td>    0.125</td> <td> 0.900</td> <td>   -0.613</td> <td>    0.697</td>\n",
       "</tr>\n",
       "<tr>\n",
       "  <th>ager</th>         <td>    0.1271</td> <td>    0.019</td> <td>    6.782</td> <td> 0.000</td> <td>    0.090</td> <td>    0.164</td>\n",
       "</tr>\n",
       "<tr>\n",
       "  <th>totincr</th>      <td>   -0.3206</td> <td>    0.032</td> <td>  -10.134</td> <td> 0.000</td> <td>   -0.383</td> <td>   -0.259</td>\n",
       "</tr>\n",
       "<tr>\n",
       "  <th>educat</th>       <td>   -0.1112</td> <td>    0.048</td> <td>   -2.318</td> <td> 0.020</td> <td>   -0.205</td> <td>   -0.017</td>\n",
       "</tr>\n",
       "<tr>\n",
       "   <th>rmarital=4</th>     <th>coef</th>     <th>std err</th>      <th>z</th>      <th>P>|z|</th>  <th>[0.025</th>    <th>0.975]</th>  \n",
       "</tr>\n",
       "<tr>\n",
       "  <th>Intercept</th>    <td>   -2.6453</td> <td>    0.297</td> <td>   -8.913</td> <td> 0.000</td> <td>   -3.227</td> <td>   -2.064</td>\n",
       "</tr>\n",
       "<tr>\n",
       "  <th>C(race)[T.2]</th> <td>   -0.3278</td> <td>    0.091</td> <td>   -3.612</td> <td> 0.000</td> <td>   -0.506</td> <td>   -0.150</td>\n",
       "</tr>\n",
       "<tr>\n",
       "  <th>C(race)[T.3]</th> <td>   -0.8179</td> <td>    0.169</td> <td>   -4.826</td> <td> 0.000</td> <td>   -1.150</td> <td>   -0.486</td>\n",
       "</tr>\n",
       "<tr>\n",
       "  <th>ager</th>         <td>    0.0649</td> <td>    0.006</td> <td>   10.104</td> <td> 0.000</td> <td>    0.052</td> <td>    0.078</td>\n",
       "</tr>\n",
       "<tr>\n",
       "  <th>totincr</th>      <td>   -0.2283</td> <td>    0.011</td> <td>  -20.020</td> <td> 0.000</td> <td>   -0.251</td> <td>   -0.206</td>\n",
       "</tr>\n",
       "<tr>\n",
       "  <th>educat</th>       <td>    0.0668</td> <td>    0.016</td> <td>    4.059</td> <td> 0.000</td> <td>    0.035</td> <td>    0.099</td>\n",
       "</tr>\n",
       "<tr>\n",
       "   <th>rmarital=5</th>     <th>coef</th>     <th>std err</th>      <th>z</th>      <th>P>|z|</th>  <th>[0.025</th>    <th>0.975]</th>  \n",
       "</tr>\n",
       "<tr>\n",
       "  <th>Intercept</th>    <td>    0.7899</td> <td>    0.340</td> <td>    2.326</td> <td> 0.020</td> <td>    0.124</td> <td>    1.455</td>\n",
       "</tr>\n",
       "<tr>\n",
       "  <th>C(race)[T.2]</th> <td>   -1.0567</td> <td>    0.101</td> <td>  -10.443</td> <td> 0.000</td> <td>   -1.255</td> <td>   -0.858</td>\n",
       "</tr>\n",
       "<tr>\n",
       "  <th>C(race)[T.3]</th> <td>   -0.6057</td> <td>    0.154</td> <td>   -3.932</td> <td> 0.000</td> <td>   -0.908</td> <td>   -0.304</td>\n",
       "</tr>\n",
       "<tr>\n",
       "  <th>ager</th>         <td>    0.0073</td> <td>    0.007</td> <td>    1.030</td> <td> 0.303</td> <td>   -0.007</td> <td>    0.021</td>\n",
       "</tr>\n",
       "<tr>\n",
       "  <th>totincr</th>      <td>   -0.2893</td> <td>    0.014</td> <td>  -20.309</td> <td> 0.000</td> <td>   -0.317</td> <td>   -0.261</td>\n",
       "</tr>\n",
       "<tr>\n",
       "  <th>educat</th>       <td>   -0.0144</td> <td>    0.021</td> <td>   -0.685</td> <td> 0.493</td> <td>   -0.056</td> <td>    0.027</td>\n",
       "</tr>\n",
       "<tr>\n",
       "   <th>rmarital=6</th>     <th>coef</th>     <th>std err</th>      <th>z</th>      <th>P>|z|</th>  <th>[0.025</th>    <th>0.975]</th>  \n",
       "</tr>\n",
       "<tr>\n",
       "  <th>Intercept</th>    <td>    6.2571</td> <td>    0.270</td> <td>   23.194</td> <td> 0.000</td> <td>    5.728</td> <td>    6.786</td>\n",
       "</tr>\n",
       "<tr>\n",
       "  <th>C(race)[T.2]</th> <td>   -2.1584</td> <td>    0.078</td> <td>  -27.519</td> <td> 0.000</td> <td>   -2.312</td> <td>   -2.005</td>\n",
       "</tr>\n",
       "<tr>\n",
       "  <th>C(race)[T.3]</th> <td>   -1.9729</td> <td>    0.136</td> <td>  -14.527</td> <td> 0.000</td> <td>   -2.239</td> <td>   -1.707</td>\n",
       "</tr>\n",
       "<tr>\n",
       "  <th>ager</th>         <td>   -0.0921</td> <td>    0.006</td> <td>  -16.425</td> <td> 0.000</td> <td>   -0.103</td> <td>   -0.081</td>\n",
       "</tr>\n",
       "<tr>\n",
       "  <th>totincr</th>      <td>   -0.2887</td> <td>    0.011</td> <td>  -25.438</td> <td> 0.000</td> <td>   -0.311</td> <td>   -0.266</td>\n",
       "</tr>\n",
       "<tr>\n",
       "  <th>educat</th>       <td>   -0.0839</td> <td>    0.017</td> <td>   -4.814</td> <td> 0.000</td> <td>   -0.118</td> <td>   -0.050</td>\n",
       "</tr>\n",
       "</table>"
      ],
      "text/plain": [
       "<class 'statsmodels.iolib.summary.Summary'>\n",
       "\"\"\"\n",
       "                          MNLogit Regression Results                          \n",
       "==============================================================================\n",
       "Dep. Variable:               rmarital   No. Observations:                 9148\n",
       "Model:                        MNLogit   Df Residuals:                     9118\n",
       "Method:                           MLE   Df Model:                           25\n",
       "Date:                Fri, 14 May 2021   Pseudo R-squ.:                  0.1636\n",
       "Time:                        21:58:30   Log-Likelihood:                -10020.\n",
       "converged:                       True   LL-Null:                       -11981.\n",
       "Covariance Type:            nonrobust   LLR p-value:                     0.000\n",
       "================================================================================\n",
       "  rmarital=2       coef    std err          z      P>|z|      [0.025      0.975]\n",
       "--------------------------------------------------------------------------------\n",
       "Intercept        4.4558      0.273     16.296      0.000       3.920       4.992\n",
       "C(race)[T.2]    -0.9241      0.086    -10.692      0.000      -1.093      -0.755\n",
       "C(race)[T.3]    -0.6456      0.133     -4.863      0.000      -0.906      -0.385\n",
       "ager            -0.0574      0.006    -10.031      0.000      -0.069      -0.046\n",
       "totincr         -0.1293      0.011    -11.433      0.000      -0.151      -0.107\n",
       "educat          -0.2033      0.018    -11.110      0.000      -0.239      -0.167\n",
       "--------------------------------------------------------------------------------\n",
       "  rmarital=3       coef    std err          z      P>|z|      [0.025      0.975]\n",
       "--------------------------------------------------------------------------------\n",
       "Intercept       -4.3815      0.903     -4.850      0.000      -6.152      -2.611\n",
       "C(race)[T.2]    -0.3953      0.235     -1.684      0.092      -0.855       0.065\n",
       "C(race)[T.3]     0.0418      0.334      0.125      0.900      -0.613       0.697\n",
       "ager             0.1271      0.019      6.782      0.000       0.090       0.164\n",
       "totincr         -0.3206      0.032    -10.134      0.000      -0.383      -0.259\n",
       "educat          -0.1112      0.048     -2.318      0.020      -0.205      -0.017\n",
       "--------------------------------------------------------------------------------\n",
       "  rmarital=4       coef    std err          z      P>|z|      [0.025      0.975]\n",
       "--------------------------------------------------------------------------------\n",
       "Intercept       -2.6453      0.297     -8.913      0.000      -3.227      -2.064\n",
       "C(race)[T.2]    -0.3278      0.091     -3.612      0.000      -0.506      -0.150\n",
       "C(race)[T.3]    -0.8179      0.169     -4.826      0.000      -1.150      -0.486\n",
       "ager             0.0649      0.006     10.104      0.000       0.052       0.078\n",
       "totincr         -0.2283      0.011    -20.020      0.000      -0.251      -0.206\n",
       "educat           0.0668      0.016      4.059      0.000       0.035       0.099\n",
       "--------------------------------------------------------------------------------\n",
       "  rmarital=5       coef    std err          z      P>|z|      [0.025      0.975]\n",
       "--------------------------------------------------------------------------------\n",
       "Intercept        0.7899      0.340      2.326      0.020       0.124       1.455\n",
       "C(race)[T.2]    -1.0567      0.101    -10.443      0.000      -1.255      -0.858\n",
       "C(race)[T.3]    -0.6057      0.154     -3.932      0.000      -0.908      -0.304\n",
       "ager             0.0073      0.007      1.030      0.303      -0.007       0.021\n",
       "totincr         -0.2893      0.014    -20.309      0.000      -0.317      -0.261\n",
       "educat          -0.0144      0.021     -0.685      0.493      -0.056       0.027\n",
       "--------------------------------------------------------------------------------\n",
       "  rmarital=6       coef    std err          z      P>|z|      [0.025      0.975]\n",
       "--------------------------------------------------------------------------------\n",
       "Intercept        6.2571      0.270     23.194      0.000       5.728       6.786\n",
       "C(race)[T.2]    -2.1584      0.078    -27.519      0.000      -2.312      -2.005\n",
       "C(race)[T.3]    -1.9729      0.136    -14.527      0.000      -2.239      -1.707\n",
       "ager            -0.0921      0.006    -16.425      0.000      -0.103      -0.081\n",
       "totincr         -0.2887      0.011    -25.438      0.000      -0.311      -0.266\n",
       "educat          -0.0839      0.017     -4.814      0.000      -0.118      -0.050\n",
       "================================================================================\n",
       "\"\"\""
      ]
     },
     "execution_count": 112,
     "metadata": {},
     "output_type": "execute_result"
    }
   ],
   "source": [
    "model = smf.mnlogit('rmarital ~ ager + C(race) + totincr + educat', data=join)\n",
    "results_mnl = model.fit()\n",
    "results_mnl.summary()"
   ]
  },
  {
   "cell_type": "markdown",
   "metadata": {},
   "source": [
    "Make a prediction for a woman who is 25 years old, white, and a high\n",
    "school graduate whose annual household income is about $45,000."
   ]
  },
  {
   "cell_type": "code",
   "execution_count": 113,
   "metadata": {},
   "outputs": [
    {
     "data": {
      "text/html": [
       "<div>\n",
       "<style scoped>\n",
       "    .dataframe tbody tr th:only-of-type {\n",
       "        vertical-align: middle;\n",
       "    }\n",
       "\n",
       "    .dataframe tbody tr th {\n",
       "        vertical-align: top;\n",
       "    }\n",
       "\n",
       "    .dataframe thead th {\n",
       "        text-align: right;\n",
       "    }\n",
       "</style>\n",
       "<table border=\"1\" class=\"dataframe\">\n",
       "  <thead>\n",
       "    <tr style=\"text-align: right;\">\n",
       "      <th></th>\n",
       "      <th>0</th>\n",
       "      <th>1</th>\n",
       "      <th>2</th>\n",
       "      <th>3</th>\n",
       "      <th>4</th>\n",
       "      <th>5</th>\n",
       "    </tr>\n",
       "  </thead>\n",
       "  <tbody>\n",
       "    <tr>\n",
       "      <th>0</th>\n",
       "      <td>0.744248</td>\n",
       "      <td>0.127276</td>\n",
       "      <td>0.001165</td>\n",
       "      <td>0.034928</td>\n",
       "      <td>0.023891</td>\n",
       "      <td>0.068492</td>\n",
       "    </tr>\n",
       "  </tbody>\n",
       "</table>\n",
       "</div>"
      ],
      "text/plain": [
       "          0         1         2         3         4         5\n",
       "0  0.744248  0.127276  0.001165  0.034928  0.023891  0.068492"
      ]
     },
     "execution_count": 113,
     "metadata": {},
     "output_type": "execute_result"
    }
   ],
   "source": [
    "columns = ['ager', 'race', 'totincr', 'educat']\n",
    "df_mnl = pd.DataFrame([[25, 2, 11, 12]], columns=columns)\n",
    "results_mnl.predict(df_mnl)"
   ]
  },
  {
   "cell_type": "markdown",
   "metadata": {},
   "source": [
    "0 - Currently married\n",
    "1 - Not married but living with opp sex partner\n",
    "2 - widowed\n",
    "3 - divorced\n",
    "4 - separated for reasons of marital discord\n",
    "5 - Never been married"
   ]
  },
  {
   "cell_type": "markdown",
   "metadata": {},
   "source": [
    "Based on above results we can say that - there are 74% chances that woman is married or 13% chances that living with opp sex partner or very minimal chances of widowed or divorced or never married, separated etc\n"
   ]
  },
  {
   "cell_type": "markdown",
   "metadata": {},
   "source": [
    "END"
   ]
  }
 ],
 "metadata": {
  "kernelspec": {
   "display_name": "Python 3",
   "language": "python",
   "name": "python3"
  },
  "language_info": {
   "codemirror_mode": {
    "name": "ipython",
    "version": 3
   },
   "file_extension": ".py",
   "mimetype": "text/x-python",
   "name": "python",
   "nbconvert_exporter": "python",
   "pygments_lexer": "ipython3",
   "version": "3.8.2"
  }
 },
 "nbformat": 4,
 "nbformat_minor": 4
}
